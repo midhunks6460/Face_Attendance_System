{
 "cells": [
  {
   "cell_type": "code",
   "execution_count": 1,
   "id": "644cdced",
   "metadata": {},
   "outputs": [],
   "source": []
  },
  {
   "cell_type": "code",
   "execution_count": 2,
   "id": "f162a0cc",
   "metadata": {},
   "outputs": [],
   "source": []
  },
  {
   "cell_type": "code",
   "execution_count": 4,
   "id": "c4265ea5",
   "metadata": {},
   "outputs": [
    {
     "name": "stdout",
     "output_type": "stream",
     "text": [
      "[]\n"
     ]
    }
   ],
   "source": [
    "import cv2\n",
    "import face_recognition\n",
    "import numpy as np\n",
    "import csv\n",
    "import os\n",
    "\n",
    "\n",
    "\n",
    "from datetime import datetime\n",
    "\n",
    "video_capture=cv2.VideoCapture(0)\n",
    "mks_image=face_recognition.load_image_file(\"photos/my.JPG\")\n",
    "mks_encoding=face_recognition.face_encodings(mks_image)[0]\n",
    "known_face_encoding=[mks_encoding]\n",
    "known_face_names=[\"midhun\"]\n",
    "students=known_face_names.copy()\n",
    "\n",
    "\n",
    "face_locations=[]\n",
    "face_encodings=[]\n",
    "face_names=[]\n",
    "s=True\n",
    "\n",
    "now=datetime.now()\n",
    "current_date=now.strftime(\"%Y-%m-%d\")\n",
    "\n",
    "f=open(current_date+'.csv','w+',newline='')\n",
    "lnwriter=csv.writer(f)\n",
    "\n",
    "\n",
    "while True:\n",
    "    _,frame=video_capture.read()\n",
    "    small_frame=cv2.resize(frame,(0,0),fx=0.25,fy=0.25)\n",
    "    rgb_small_frame=small_frame[:,:,::-1]\n",
    "    if s:\n",
    "        face_locations=face_recognition.face_locations(rgb_small_frame)\n",
    "        face_encodings=face_recognition.face_encodings(rgb_small_frame,face_locations)\n",
    "        face_names=[]\n",
    "        for face_encoding in face_encodings:\n",
    "            matches = face_recognition.compare_faces(known_face_encoding,face_encoding)\n",
    "            name=\"\"\n",
    "            face_distance = face_recognition.face_distance(known_face_encoding,face_encoding)\n",
    "            best_match_index = np.argmin(face_distance)\n",
    "            if matches[best_match_index]:\n",
    "                name = known_face_names[best_match_index]\n",
    "                face_names.append(name)\n",
    "                if name in known_face_names:\n",
    "                 if name in students:\n",
    "                    students.remove(name)\n",
    "                    print(students)\n",
    "                    current_time = now.strftime(\"%H-%M-%S\")\n",
    "                    lnwriter.writerow([name,current_time])\n",
    "                    cv2.imshow(\"attendence system\",frame)\n",
    "    if cv2.waitKey(1) & 0xFF == ord('q'):\n",
    "        break\n",
    "\n",
    "video_capture.release()\n",
    "cv2.destroyAllWindows()\n",
    "f.close()\n"
   ]
  },
  {
   "cell_type": "code",
   "execution_count": 5,
   "id": "3d23448e",
   "metadata": {},
   "outputs": [],
   "source": []
  },
  {
   "cell_type": "markdown",
   "id": "b515ae72",
   "metadata": {},
   "source": []
  },
  {
   "cell_type": "code",
   "execution_count": 9,
   "id": "afc36a04",
   "metadata": {},
   "outputs": [],
   "source": []
  },
  {
   "cell_type": "code",
   "execution_count": 10,
   "id": "5f54ac79",
   "metadata": {},
   "outputs": [],
   "source": []
  },
  {
   "cell_type": "code",
   "execution_count": 11,
   "id": "5bf4585f",
   "metadata": {},
   "outputs": [],
   "source": []
  },
  {
   "cell_type": "code",
   "execution_count": 12,
   "id": "459538f1",
   "metadata": {},
   "outputs": [],
   "source": []
  },
  {
   "cell_type": "code",
   "execution_count": 13,
   "id": "80692611",
   "metadata": {},
   "outputs": [],
   "source": []
  },
  {
   "cell_type": "code",
   "execution_count": 14,
   "id": "73b21a6a",
   "metadata": {},
   "outputs": [],
   "source": []
  },
  {
   "cell_type": "code",
   "execution_count": 15,
   "id": "072962a1",
   "metadata": {},
   "outputs": [],
   "source": []
  },
  {
   "cell_type": "code",
   "execution_count": 16,
   "id": "f80ad6d6",
   "metadata": {},
   "outputs": [],
   "source": []
  },
  {
   "cell_type": "code",
   "execution_count": null,
   "id": "e6193a61",
   "metadata": {},
   "outputs": [],
   "source": []
  },
  {
   "cell_type": "markdown",
   "id": "d5b48fbb",
   "metadata": {},
   "source": []
  },
  {
   "cell_type": "code",
   "execution_count": null,
   "id": "1109178b",
   "metadata": {},
   "outputs": [],
   "source": []
  },
  {
   "cell_type": "code",
   "execution_count": null,
   "id": "1cde3b11",
   "metadata": {},
   "outputs": [],
   "source": []
  },
  {
   "cell_type": "code",
   "execution_count": null,
   "id": "6b6b2775",
   "metadata": {},
   "outputs": [],
   "source": []
  }
 ],
 "metadata": {
  "kernelspec": {
   "display_name": "Python 3 (ipykernel)",
   "language": "python",
   "name": "python3"
  },
  "language_info": {
   "codemirror_mode": {
    "name": "ipython",
    "version": 3
   },
   "file_extension": ".py",
   "mimetype": "text/x-python",
   "name": "python",
   "nbconvert_exporter": "python",
   "pygments_lexer": "ipython3",
   "version": "3.10.9"
  }
 },
 "nbformat": 4,
 "nbformat_minor": 5
}
